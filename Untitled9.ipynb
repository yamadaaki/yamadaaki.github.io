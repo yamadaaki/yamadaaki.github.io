{
  "nbformat": 4,
  "nbformat_minor": 0,
  "metadata": {
    "colab": {
      "name": "Untitled9.ipynb",
      "provenance": [],
      "authorship_tag": "ABX9TyM4nJIpaMTt/m8FwegnrM89",
      "include_colab_link": true
    },
    "kernelspec": {
      "name": "python3",
      "display_name": "Python 3"
    },
    "language_info": {
      "name": "python"
    }
  },
  "cells": [
    {
      "cell_type": "markdown",
      "metadata": {
        "id": "view-in-github",
        "colab_type": "text"
      },
      "source": [
        "<a href=\"https://colab.research.google.com/github/yamadaaki/yamadaaki.github.io/blob/main/Untitled9.ipynb\" target=\"_parent\"><img src=\"https://colab.research.google.com/assets/colab-badge.svg\" alt=\"Open In Colab\"/></a>"
      ]
    },
    {
      "cell_type": "code",
      "source": [
        "from inspect import getfullargspec, formatargspec\n",
        "from typing import Callable, Any\n",
        "\n",
        "\n",
        "def get_aguments(function: Callable):\n",
        "  def str_to_type(arg):\n",
        "    if len(arg) == 2:\n",
        "      return arg[0], eval(arg[1])\n",
        "\n",
        "    if len(arg) == 1:\n",
        "      return arg[0], Any\n",
        "\n",
        "  args = formatargspec(*getfullargspec(function))\n",
        "  args_list = args[1:-1].split(', ')\n",
        "\n",
        "  return tuple(str_to_type(arg.split(': ')) for arg in args_list)"
      ],
      "metadata": {
        "id": "70dXc856Khwx"
      },
      "execution_count": 179,
      "outputs": []
    }
  ]
}